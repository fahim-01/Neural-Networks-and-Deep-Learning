{
  "nbformat": 4,
  "nbformat_minor": 0,
  "metadata": {
    "colab": {
      "name": "Demo Vectorization.ipynb",
      "provenance": [],
      "collapsed_sections": []
    },
    "kernelspec": {
      "name": "python3",
      "display_name": "Python 3"
    },
    "language_info": {
      "name": "python"
    }
  },
  "cells": [
    {
      "cell_type": "markdown",
      "source": [
        "## 1 - Building basic functions with numpy"
      ],
      "metadata": {
        "id": "lSdb4j8fiGQc"
      }
    },
    {
      "cell_type": "code",
      "execution_count": null,
      "metadata": {
        "colab": {
          "base_uri": "https://localhost:8080/"
        },
        "id": "vInj4sZtjhOd",
        "outputId": "7cd1f20b-1e31-45e7-e8c6-ec69ee813cfb"
      },
      "outputs": [
        {
          "output_type": "stream",
          "name": "stdout",
          "text": [
            "[1 2 3 4]\n"
          ]
        }
      ],
      "source": [
        "import numpy as np\n",
        "a= np.array([1,2,3,4])\n",
        "print(a)"
      ]
    },
    {
      "cell_type": "code",
      "source": [
        "import time\n",
        "\n",
        "a=np.random.rand(1000000)\n",
        "b=np.random.rand(1000000)\n",
        "\n",
        "tic = time.time()\n",
        "c= np.dot(a,b)\n",
        "toc=time.time()\n",
        "print(c)\n",
        "print(\"Vectorized version:\" +  str(1000*(tic-toc)) + \"ms\")\n",
        "\n",
        "\n",
        "\n",
        "c=0\n",
        "tic= time.time()\n",
        "for i in range(1000000):\n",
        "  c+= a[i]*b[i]\n",
        "toc = time.time()\n",
        "print(c)\n",
        "print(\"For loop:\" + str(1000*(tic-toc)) + \"ms\")"
      ],
      "metadata": {
        "colab": {
          "base_uri": "https://localhost:8080/"
        },
        "id": "DK0USSLRmABR",
        "outputId": "f9163b8b-8f0e-4342-cfc6-959f160e40fe"
      },
      "execution_count": null,
      "outputs": [
        {
          "output_type": "stream",
          "name": "stdout",
          "text": [
            "249935.64673896998\n",
            "Vectorized version:-1.5747547149658203ms\n",
            "249935.64673898258\n",
            "For loop:-487.9889488220215ms\n"
          ]
        }
      ]
    },
    {
      "cell_type": "markdown",
      "source": [
        "###1.1 - sigmoid function, If we import Math libraries"
      ],
      "metadata": {
        "id": "9-rue30GiP7T"
      }
    },
    {
      "cell_type": "code",
      "source": [
        "import math\n",
        "\n",
        "def basic_sigmoid(x):\n",
        "\n",
        "    s=1/(1+math.exp(-x))\n",
        "\n",
        "    return s"
      ],
      "metadata": {
        "id": "jNZlsnCl-Gf1"
      },
      "execution_count": null,
      "outputs": []
    },
    {
      "cell_type": "code",
      "source": [
        "basic_sigmoid(3)"
      ],
      "metadata": {
        "colab": {
          "base_uri": "https://localhost:8080/"
        },
        "id": "YDuSHPXF-L8s",
        "outputId": "2253e5d8-f384-4db8-ff1c-242c8c0b2b20"
      },
      "execution_count": null,
      "outputs": [
        {
          "output_type": "execute_result",
          "data": {
            "text/plain": [
              "0.9525741268224334"
            ]
          },
          "metadata": {},
          "execution_count": 7
        }
      ]
    },
    {
      "cell_type": "code",
      "source": [
        "import numpy as np\n",
        "\n",
        "x= np.array([1,2,3,4])\n",
        "print(np.exp(x))"
      ],
      "metadata": {
        "colab": {
          "base_uri": "https://localhost:8080/"
        },
        "id": "lJjXfvjN_7p1",
        "outputId": "35311d5e-c2d1-47f7-a0db-505667fc73ab"
      },
      "execution_count": null,
      "outputs": [
        {
          "output_type": "stream",
          "name": "stdout",
          "text": [
            "[ 2.71828183  7.3890561  20.08553692 54.59815003]\n"
          ]
        }
      ]
    },
    {
      "cell_type": "markdown",
      "source": [
        "### If we import Numpy \n"
      ],
      "metadata": {
        "id": "gA5nEPaYik9b"
      }
    },
    {
      "cell_type": "code",
      "source": [
        "print(x+3)"
      ],
      "metadata": {
        "colab": {
          "base_uri": "https://localhost:8080/"
        },
        "id": "4sfzlczhAGCs",
        "outputId": "26b0e520-2b76-4791-ea63-633038003c65"
      },
      "execution_count": null,
      "outputs": [
        {
          "output_type": "stream",
          "name": "stdout",
          "text": [
            "[4 5 6 7]\n"
          ]
        }
      ]
    },
    {
      "cell_type": "code",
      "source": [
        "def sigmoid(x):\n",
        "    s = 1/(1+np.exp(-x))\n",
        "    return s\n"
      ],
      "metadata": {
        "id": "QpHmPW9yAOEm"
      },
      "execution_count": null,
      "outputs": []
    },
    {
      "cell_type": "code",
      "source": [
        "x= np.array([1,2,3])\n",
        "sigmoid(x)"
      ],
      "metadata": {
        "colab": {
          "base_uri": "https://localhost:8080/"
        },
        "id": "kW4aNyCAAblt",
        "outputId": "49196ffd-922b-463d-dfe0-c9cb39332614"
      },
      "execution_count": null,
      "outputs": [
        {
          "output_type": "execute_result",
          "data": {
            "text/plain": [
              "array([0.73105858, 0.88079708, 0.95257413])"
            ]
          },
          "metadata": {},
          "execution_count": 15
        }
      ]
    },
    {
      "cell_type": "markdown",
      "source": [
        "##1.2 - Sigmoid gradient\n",
        "As you've seen in lecture, you will need to compute gradients to optimize loss functions using backpropagation. Let's code your first gradient function.\n",
        "\n",
        "###Exercise: \n",
        "Implement the function sigmoid_grad() to compute the gradient of the sigmoid function with respect to its input x. \n",
        "\n",
        "The formula is:\n",
        "\n",
        "sigmoid_derivative(x)=σ′(x)=σ(x)(1−σ(x))\n",
        "You often code this function in two steps:\n",
        "\n",
        "Set s to be the sigmoid of x. You might find your sigmoid(x) function useful.\n",
        "Compute σ′(x)=s(1−s)"
      ],
      "metadata": {
        "id": "UGKb9Q04CGZ0"
      }
    },
    {
      "cell_type": "code",
      "source": [
        "def sigmoid_derivative(x):\n",
        "    s = sigmoid(x)\n",
        "    ds = s*(1-s)\n",
        "    return ds"
      ],
      "metadata": {
        "id": "4qAKCGDKAzzF"
      },
      "execution_count": null,
      "outputs": []
    },
    {
      "cell_type": "code",
      "source": [
        "x=np.array([1,2,3])\n",
        "print(\"Sigmoid_derivative(x)= \" + str(  sigmoid_derivative(x)))"
      ],
      "metadata": {
        "colab": {
          "base_uri": "https://localhost:8080/"
        },
        "id": "zpbjD7beDJCR",
        "outputId": "55658ef5-412d-43a3-bb1e-c0d88abe02da"
      },
      "execution_count": null,
      "outputs": [
        {
          "output_type": "stream",
          "name": "stdout",
          "text": [
            "Sigmoid_derivative(x)= [0.19661193 0.10499359 0.04517666]\n"
          ]
        }
      ]
    },
    {
      "cell_type": "markdown",
      "source": [
        "##1.3 - Reshapping Arrays"
      ],
      "metadata": {
        "id": "Y0uE_NnFEK10"
      }
    },
    {
      "cell_type": "code",
      "source": [
        " def image2vector(image):\n",
        "\n",
        "     \n",
        "     v = image.reshape(image.shape[0]*image.shape[1]*image.shape[2],1)\n",
        "     return v "
      ],
      "metadata": {
        "id": "sWmkJ2hNESpD"
      },
      "execution_count": null,
      "outputs": []
    },
    {
      "cell_type": "code",
      "source": [
        "image = np.array([[[ 0.67826139,  0.29380381],\n",
        "        [ 0.90714982,  0.52835647],\n",
        "        [ 0.4215251 ,  0.45017551]],\n",
        "\n",
        "       [[ 0.92814219,  0.96677647],\n",
        "        [ 0.85304703,  0.52351845],\n",
        "        [ 0.19981397,  0.27417313]],\n",
        "\n",
        "       [[ 0.60659855,  0.00533165],\n",
        "        [ 0.10820313,  0.49978937],\n",
        "        [ 0.34144279,  0.94630077]]])\n",
        "\n",
        "print(\"image2vector(image)=\" + str(image2vector(image)))"
      ],
      "metadata": {
        "colab": {
          "base_uri": "https://localhost:8080/"
        },
        "id": "IBXyJ6enFPN7",
        "outputId": "77b93c50-1b7e-4ea3-8a83-c06931f012dd"
      },
      "execution_count": null,
      "outputs": [
        {
          "output_type": "stream",
          "name": "stdout",
          "text": [
            "image2vector(image)=[[0.67826139]\n",
            " [0.29380381]\n",
            " [0.90714982]\n",
            " [0.52835647]\n",
            " [0.4215251 ]\n",
            " [0.45017551]\n",
            " [0.92814219]\n",
            " [0.96677647]\n",
            " [0.85304703]\n",
            " [0.52351845]\n",
            " [0.19981397]\n",
            " [0.27417313]\n",
            " [0.60659855]\n",
            " [0.00533165]\n",
            " [0.10820313]\n",
            " [0.49978937]\n",
            " [0.34144279]\n",
            " [0.94630077]]\n"
          ]
        }
      ]
    },
    {
      "cell_type": "markdown",
      "source": [
        "## 1.4- NormalizingRows"
      ],
      "metadata": {
        "id": "Voem9YSsJP3T"
      }
    },
    {
      "cell_type": "code",
      "source": [
        "def normalizerows(x):\n",
        "    \n",
        "    norm_rows=np.linalg.norm(x,axis=1,keepdims=True)\n",
        "    x=x/norm_rows\n",
        "    return x"
      ],
      "metadata": {
        "id": "MVtGcg8OFlO8"
      },
      "execution_count": null,
      "outputs": []
    },
    {
      "cell_type": "code",
      "source": [
        "x = np.array([\n",
        "              [0,3,4],\n",
        "              [1,6,4]\n",
        "])\n",
        "\n",
        "print(\"Normalize_rows(x) =\" + str(normalizerows(x)))"
      ],
      "metadata": {
        "colab": {
          "base_uri": "https://localhost:8080/"
        },
        "id": "V4rJ8afqILFE",
        "outputId": "46676133-9895-4c7e-bf28-da469175bb79"
      },
      "execution_count": null,
      "outputs": [
        {
          "output_type": "stream",
          "name": "stdout",
          "text": [
            "Normalize_rows(x) =[[0.         0.6        0.8       ]\n",
            " [0.13736056 0.82416338 0.54944226]]\n"
          ]
        }
      ]
    },
    {
      "cell_type": "markdown",
      "source": [
        "##1.5 - Broadcasting and the softmax function"
      ],
      "metadata": {
        "id": "IjOU6BVoKf_b"
      }
    },
    {
      "cell_type": "code",
      "source": [
        "def softmax(x):\n",
        "     \n",
        "     x_exp = np.exp(x)\n",
        "     x_sum =np.sum(x_exp, axis=1, keepdims=True)\n",
        "     s= x_exp/x_sum\n",
        "     return s\n",
        "     "
      ],
      "metadata": {
        "id": "cFKZleOzIvm9"
      },
      "execution_count": null,
      "outputs": []
    },
    {
      "cell_type": "code",
      "source": [
        "x = np.array([\n",
        "    [9, 2, 5, 0, 0],\n",
        "    [7, 5, 0, 0 ,0]])\n",
        "\n",
        "print(\"Softmax(x) =\" + str(softmax(x)))"
      ],
      "metadata": {
        "colab": {
          "base_uri": "https://localhost:8080/"
        },
        "id": "XoPXi-PDLRqL",
        "outputId": "59fa96eb-ca37-4ca7-ecf6-84cb01724ebc"
      },
      "execution_count": null,
      "outputs": [
        {
          "output_type": "stream",
          "name": "stdout",
          "text": [
            "Softmax(x) =[[9.80897665e-01 8.94462891e-04 1.79657674e-02 1.21052389e-04\n",
            "  1.21052389e-04]\n",
            " [8.78679856e-01 1.18916387e-01 8.01252314e-04 8.01252314e-04\n",
            "  8.01252314e-04]]\n"
          ]
        }
      ]
    },
    {
      "cell_type": "markdown",
      "source": [
        "##2) Vectorization"
      ],
      "metadata": {
        "id": "cnzspGi_MQNr"
      }
    },
    {
      "cell_type": "code",
      "source": [
        "import time\n",
        "\n",
        "x1 = [9, 2, 5, 0, 0, 7, 5, 0, 0, 0, 9, 2, 5, 0, 0]\n",
        "x2 = [9, 2, 2, 9, 0, 9, 2, 5, 0, 0, 9, 2, 5, 0, 0]\n",
        "\n",
        "tic= time.process_time()\n",
        "dot= 0\n",
        "for i in range(len(x1)):\n",
        "  dot+=x1[i]*x2[i]\n",
        "  toc = time.process_time()\n",
        "  print(\"dot :\" + str(dot) + \"computation time\" + str(1000*(toc-tic)) + \"ms\")"
      ],
      "metadata": {
        "colab": {
          "base_uri": "https://localhost:8080/"
        },
        "id": "dp4kFfM-MSb6",
        "outputId": "90397cd7-fb36-4f2d-a587-0162bfc6b98f"
      },
      "execution_count": null,
      "outputs": [
        {
          "output_type": "stream",
          "name": "stdout",
          "text": [
            "dot :81computation time0.09922099999926104ms\n",
            "dot :85computation time0.5971349999995823ms\n",
            "dot :95computation time0.6951229999998532ms\n",
            "dot :95computation time0.739711000001364ms\n",
            "dot :95computation time0.7884000000011326ms\n",
            "dot :158computation time0.8449520000013422ms\n",
            "dot :168computation time0.9007889999992358ms\n",
            "dot :168computation time0.9654979999993429ms\n",
            "dot :168computation time1.012077000002165ms\n",
            "dot :168computation time1.0567190000010385ms\n",
            "dot :249computation time1.1045359999997117ms\n",
            "dot :253computation time1.1519389999996577ms\n",
            "dot :278computation time1.1987799999992887ms\n",
            "dot :278computation time1.233424000002259ms\n",
            "dot :278computation time1.2902920000001927ms\n"
          ]
        }
      ]
    },
    {
      "cell_type": "code",
      "source": [
        "outer = np.zeros((len(x1),len(x2)))\n",
        "for i in range(len(x1)):\n",
        "  for j in range(len(x2)):\n",
        "    outer[i,j] =  x1[i]*x2[j]\n",
        "    print(\"Outer :\" + str(outer) + \"computation time\" + str(1000*(toc-tic)) + \"ms\")"
      ],
      "metadata": {
        "id": "poZYW0V6NRMD"
      },
      "execution_count": null,
      "outputs": []
    },
    {
      "cell_type": "markdown",
      "source": [
        "**If We Use Vectorized Dot Products**"
      ],
      "metadata": {
        "id": "CqEo9PHBOp85"
      }
    },
    {
      "cell_type": "code",
      "source": [
        "tic = time.process_time()\n",
        "dot = np.dot(x1,x2)\n",
        "toc = time.process_time()\n",
        "print(\"dot:\" + str(1000*(toc-tic)) + \"ms\")"
      ],
      "metadata": {
        "colab": {
          "base_uri": "https://localhost:8080/"
        },
        "id": "TT16TfnjOk1M",
        "outputId": "83ac5c9c-11c9-4149-ffa3-3a4710b9fe19"
      },
      "execution_count": null,
      "outputs": [
        {
          "output_type": "stream",
          "name": "stdout",
          "text": [
            "dot:1.0834220000006667ms\n"
          ]
        }
      ]
    },
    {
      "cell_type": "code",
      "source": [
        "outer = np.outer(x1,x2)\n",
        "print(\"outer:\" + str(1000*(toc-tic)) + \"ms\")"
      ],
      "metadata": {
        "colab": {
          "base_uri": "https://localhost:8080/"
        },
        "id": "dhAwJZbLPTtd",
        "outputId": "f45dade7-3a8f-4b27-d444-7592ae938d40"
      },
      "execution_count": null,
      "outputs": [
        {
          "output_type": "stream",
          "name": "stdout",
          "text": [
            "outer:1.0834220000006667ms\n"
          ]
        }
      ]
    },
    {
      "cell_type": "markdown",
      "source": [
        "##2.1 Implement the L1 and L2 loss functions"
      ],
      "metadata": {
        "id": "4A4M0YHtPt4C"
      }
    },
    {
      "cell_type": "code",
      "source": [
        "def L1(yhat,y):\n",
        "    \n",
        "    loss1 = sum(abs(yhat-y))\n",
        "    return loss1\n"
      ],
      "metadata": {
        "id": "m-1iyby1Pfmz"
      },
      "execution_count": null,
      "outputs": []
    },
    {
      "cell_type": "code",
      "source": [
        "yhat = np.array([.9, 0.2, 0.1, .4, .9])\n",
        "y = np.array([1, 0, 0, 1, 1])\n",
        "\n",
        "print(\"L1 = \" + str(L1(yhat,y)))"
      ],
      "metadata": {
        "colab": {
          "base_uri": "https://localhost:8080/"
        },
        "id": "oLPoQ_iPQSwp",
        "outputId": "3f2d92c9-f476-4228-fe85-76139246985c"
      },
      "execution_count": null,
      "outputs": [
        {
          "output_type": "stream",
          "name": "stdout",
          "text": [
            "L1 = 1.1\n"
          ]
        }
      ]
    },
    {
      "cell_type": "markdown",
      "source": [
        "**If We Use Vectorized Dot Products for Loss function**\n",
        "\n",
        "\n",
        "> Implement the numpy vectorized version of the L2 loss.\n",
        "\n"
      ],
      "metadata": {
        "id": "MIfKG7yRRAVJ"
      }
    },
    {
      "cell_type": "code",
      "source": [
        "def L2(yhat,y):\n",
        "     \n",
        "     x = yhat-y\n",
        "    \n",
        "     loss2 = np.dot(x,x)\n",
        "     return loss2"
      ],
      "metadata": {
        "id": "ugQF30XjQ9ZK"
      },
      "execution_count": null,
      "outputs": []
    },
    {
      "cell_type": "code",
      "source": [
        "yhat = np.array([.9, 0.2, 0.1, .4, .9])\n",
        "y = np.array([1, 0, 0, 1, 1])\n",
        "\n",
        "print(\"L2 = \" + str(L2(yhat,y)))"
      ],
      "metadata": {
        "colab": {
          "base_uri": "https://localhost:8080/"
        },
        "outputId": "123111f1-79ec-419f-fe11-ab748c16977a",
        "id": "HTc8vbkxRkFi"
      },
      "execution_count": null,
      "outputs": [
        {
          "output_type": "stream",
          "name": "stdout",
          "text": [
            "L2 = 0.43\n"
          ]
        }
      ]
    }
  ]
}