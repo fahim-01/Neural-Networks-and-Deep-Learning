{
  "nbformat": 4,
  "nbformat_minor": 0,
  "metadata": {
    "colab": {
      "name": "Logistic Regression with a Neural Network mindset.ipynb",
      "provenance": [],
      "collapsed_sections": []
    },
    "kernelspec": {
      "name": "python3",
      "display_name": "Python 3"
    },
    "language_info": {
      "name": "python"
    }
  },
  "cells": [
    {
      "cell_type": "markdown",
      "source": [
        "#A simple image-recognition algorithm that can correctly classify pictures as cat or non-cat.\n",
        "\n",
        "\n"
      ],
      "metadata": {
        "id": "uhEKRMcXd5ek"
      }
    },
    {
      "cell_type": "markdown",
      "source": [
        "### Imported Some <b>Packages</b> "
      ],
      "metadata": {
        "id": "YKw5v6UBc6U1"
      }
    },
    {
      "cell_type": "code",
      "execution_count": null,
      "metadata": {
        "id": "ZxZXz2vajhcG"
      },
      "outputs": [],
      "source": [
        "import numpy as np\n",
        "import matplotlib.pyplot as plt\n",
        "import h5py\n",
        "import scipy\n",
        "from PIL import Image\n",
        "from scipy import ndimage\n",
        "\n",
        "\n",
        "%matplotlib inline"
      ]
    },
    {
      "cell_type": "markdown",
      "source": [
        "### Loading The Dataset"
      ],
      "metadata": {
        "id": "6QytpNdaeg6U"
      }
    },
    {
      "cell_type": "code",
      "source": [
        "import numpy as np\n",
        "import h5py\n",
        "    \n",
        "def load_dataset():\n",
        "    with h5py.File('Datasets/train_catvnoncat.h5', \"r\") as train_dataset:\n",
        "        train_set_x_orig = np.array(train_dataset[\"train_set_x\"][:])\n",
        "        train_set_y_orig = np.array(train_dataset[\"train_set_y\"][:])\n",
        "\n",
        "    with h5py.File('Datasets/test_catvnoncat.h5', \"r\") as test_dataset:\n",
        "        test_set_x_orig = np.array(test_dataset[\"test_set_x\"][:])\n",
        "        test_set_y_orig = np.array(test_dataset[\"test_set_y\"][:])\n",
        "        classes = np.array(test_dataset[\"list_classes\"][:])\n",
        "\n",
        "    train_set_y_orig = train_set_y_orig.reshape((1, train_set_y_orig.shape[0]))\n",
        "    test_set_y_orig = test_set_y_orig.reshape((1, test_set_y_orig.shape[0]))\n",
        "\n",
        "    return train_set_x_orig, train_set_y_orig, test_set_x_orig, test_set_y_orig, classes"
      ],
      "metadata": {
        "id": "E-aAVIEGxB1N"
      },
      "execution_count": null,
      "outputs": []
    },
    {
      "cell_type": "code",
      "source": [
        "# Loading the data (cat/non-cat)\n",
        "train_set_x_orig, train_set_y, test_set_x_orig, test_set_y, classes = load_dataset()\n",
        "print(train_set_x_orig)"
      ],
      "metadata": {
        "id": "zCBMqbvLn4PG"
      },
      "execution_count": null,
      "outputs": []
    },
    {
      "cell_type": "code",
      "source": [
        "from google.colab import drive\n",
        "drive.mount('/content/drive')"
      ],
      "metadata": {
        "id": "dZiqBpysb13G",
        "colab": {
          "base_uri": "https://localhost:8080/"
        },
        "outputId": "3aa659bc-81c7-4f5a-9c09-ffa8f03beb45"
      },
      "execution_count": null,
      "outputs": [
        {
          "output_type": "stream",
          "name": "stdout",
          "text": [
            "Drive already mounted at /content/drive; to attempt to forcibly remount, call drive.mount(\"/content/drive\", force_remount=True).\n"
          ]
        }
      ]
    },
    {
      "cell_type": "markdown",
      "source": [
        "####Just Example of a Picture"
      ],
      "metadata": {
        "id": "t3zRS3QHeubM"
      }
    },
    {
      "cell_type": "code",
      "source": [
        "index=11\n",
        "plt.imshow(train_set_x_orig[index])\n",
        "print(\"y = \"+ str(train_set_y[0,index]) + \", its a \" + classes[np.squeeze(train_set_y[:, index])].decode(\"utf-8\")+ \"Picture\") "
      ],
      "metadata": {
        "id": "ZE4DcAeQ3PlD",
        "colab": {
          "base_uri": "https://localhost:8080/",
          "height": 285
        },
        "outputId": "f0222f47-64b9-4be9-d7e6-53ee4c9cf88e"
      },
      "execution_count": null,
      "outputs": [
        {
          "output_type": "stream",
          "name": "stdout",
          "text": [
            "y = 1, its a catPicture\n"
          ]
        },
        {
          "output_type": "display_data",
          "data": {
            "image/png": "[encoded data removed]",
            "text/plain": [
              "<Figure size 432x288 with 1 Axes>"
            ]
          },
          "metadata": {
            "needs_background": "light"
          }
        }
      ]
    },
    {
      "cell_type": "markdown",
      "source": [
        "## Find the values for Training & Testing example"
      ],
      "metadata": {
        "id": "klSLZG5VBW76"
      }
    },
    {
      "cell_type": "code",
      "source": [
        "### Here we know :\n",
        "m_train = train_set_x_orig.shape[0]\n",
        "m_test =  test_set_x_orig.shape[0]\n",
        "num_px = train_set_x_orig.shape[1]\n",
        "### \n",
        "\n",
        "print(\"Number of Training example : m_tain =\" + str(m_train))\n",
        "print(\"Number of Testing example : m_test =\" + str(m_test))\n",
        "print(\"Height/Width of each image : num_px =\" + str(num_px))\n",
        "print(\"each image of the size :(\" + str(num_px) + \", \" + str(num_px) + \", 3)\")\n",
        "print(\"train_set_x shape:\" + str(train_set_x_orig.shape))\n",
        "print(\"train_set_y shape:\" + str(train_set_y.shape))\n",
        "print(\"test_set_x shape:\" + str(test_set_x_orig.shape))\n",
        "print(\"test_set_y shape:\" + str(test_set_y.shape))"
      ],
      "metadata": {
        "id": "Wq5rK2Rw7R6a",
        "colab": {
          "base_uri": "https://localhost:8080/"
        },
        "outputId": "23837ec6-f8d9-4cc0-dd88-8e1e0e90615a"
      },
      "execution_count": null,
      "outputs": [
        {
          "output_type": "stream",
          "name": "stdout",
          "text": [
            "Number of Training example : m_tain =209\n",
            "Number of Testing example : m_test =50\n",
            "Height/Width of each image : num_px =64\n",
            "each image of the size :(64, 64, 3)\n",
            "train_set_x shape:(209, 64, 64, 3)\n",
            "train_set_y shape:(1, 209)\n",
            "test_set_x shape:(50, 64, 64, 3)\n",
            "test_set_y shape:(1, 50)\n"
          ]
        }
      ]
    },
    {
      "cell_type": "markdown",
      "source": [
        "## Reshape the training and test data sets "
      ],
      "metadata": {
        "id": "kXZT9V0UBzE4"
      }
    },
    {
      "cell_type": "code",
      "source": [
        "# Here we know reshape:\n",
        "train_set_x_flatten = train_set_x_orig.reshape(train_set_x_orig.shape[1]*train_set_x_orig.shape[2]*train_set_x_orig.shape[3],train_set_x_orig.shape[0])\n",
        "test_set_x_flatten = test_set_x_orig.reshape(test_set_x_orig.shape[1]*test_set_x_orig.shape[2]*test_set_x_orig.shape[3],test_set_x_orig.shape[0])\n",
        "#\n",
        "print (\"train_set_x_flatten shape: \" + str(train_set_x_flatten.shape))\n",
        "print (\"train_set_y shape: \" + str(train_set_y.shape))\n",
        "print (\"test_set_x_flatten shape: \" + str(test_set_x_flatten.shape))\n",
        "print (\"test_set_y shape: \" + str(test_set_y.shape))\n",
        "print (\"sanity check after reshaping: \" + str(train_set_x_flatten[0:5,0]))"
      ],
      "metadata": {
        "id": "-67Y2ekvCHcn",
        "colab": {
          "base_uri": "https://localhost:8080/"
        },
        "outputId": "417c610d-712c-4cea-cc4a-1412b86b6b6b"
      },
      "execution_count": null,
      "outputs": [
        {
          "output_type": "stream",
          "name": "stdout",
          "text": [
            "train_set_x_flatten shape: (12288, 209)\n",
            "train_set_y shape: (1, 209)\n",
            "test_set_x_flatten shape: (12288, 50)\n",
            "test_set_y shape: (1, 50)\n",
            "sanity check after reshaping: [17 71 49 38 70]\n"
          ]
        }
      ]
    },
    {
      "cell_type": "markdown",
      "source": [
        "### Standardize our dataset."
      ],
      "metadata": {
        "id": "E7WXty_9GdrZ"
      }
    },
    {
      "cell_type": "code",
      "source": [
        "train_set_x = train_set_x_flatten/255.\n",
        "test_set_x = test_set_x_flatten/255.\n"
      ],
      "metadata": {
        "id": "UR9dD_MBCfo_"
      },
      "execution_count": null,
      "outputs": []
    },
    {
      "cell_type": "markdown",
      "source": [
        "### When we are pre-processing a new dataset. We can follow some common steps\n",
        "\n",
        "1)figure out the dimensions and shapes of the problem<br>\n",
        "\n",
        "2) Reshape the dataset\n",
        "\n",
        "3)Standardize the dataset\n"
      ],
      "metadata": {
        "id": "bX98hgDYG42o"
      }
    },
    {
      "cell_type": "markdown",
      "source": [
        "##4 - Building the parts of our algorithm"
      ],
      "metadata": {
        "id": "yhMwpyRZKkgw"
      }
    },
    {
      "cell_type": "markdown",
      "source": [
        "####4.1 - Helper functions"
      ],
      "metadata": {
        "id": "FMlMmbsGKx-n"
      }
    },
    {
      "cell_type": "code",
      "source": [
        "def sigmoid(z):\n",
        "\n",
        "  s= 1 /(1+np.exp(-z))\n",
        "  \n",
        "  return s"
      ],
      "metadata": {
        "id": "eQwKjj9fGt6l"
      },
      "execution_count": null,
      "outputs": []
    },
    {
      "cell_type": "code",
      "source": [
        "print(\"sigmoid[0,2] :\" +\" \"+ str(sigmoid(np.array([0,2]))))"
      ],
      "metadata": {
        "id": "yRMOaus5MbVX",
        "colab": {
          "base_uri": "https://localhost:8080/"
        },
        "outputId": "b96a34d6-d3e9-48f8-fbeb-fe56cf4d2ac1"
      },
      "execution_count": null,
      "outputs": [
        {
          "output_type": "stream",
          "name": "stdout",
          "text": [
            "sigmoid[0,2] : [0.5        0.88079708]\n"
          ]
        }
      ]
    },
    {
      "cell_type": "markdown",
      "source": [
        "###4.2 - Initializing parameters"
      ],
      "metadata": {
        "id": "qLuOgZBaNRL4"
      }
    },
    {
      "cell_type": "code",
      "source": [
        "def initialize_with_zeros(dim):\n",
        "\n",
        "  w= np.zeros((dim,1))\n",
        "  b=0\n",
        "\n",
        "  assert(w.shape == (dim, 1))\n",
        "  assert(isinstance(b, float) or isinstance(b, int))\n",
        "    \n",
        "  return w, b"
      ],
      "metadata": {
        "id": "eC91dKnMOML3"
      },
      "execution_count": null,
      "outputs": []
    },
    {
      "cell_type": "code",
      "source": [
        "dim = 4\n",
        "w, b = initialize_with_zeros(dim)\n",
        "print (\"w = \" + str(w))\n",
        "print (\"b = \" + str(b))"
      ],
      "metadata": {
        "id": "K6p30z8BQav_",
        "colab": {
          "base_uri": "https://localhost:8080/"
        },
        "outputId": "6fa84c7d-5396-46ac-cdac-8be617a6a23f"
      },
      "execution_count": null,
      "outputs": [
        {
          "output_type": "stream",
          "name": "stdout",
          "text": [
            "w = [[0.]\n",
            " [0.]\n",
            " [0.]\n",
            " [0.]]\n",
            "b = 0\n"
          ]
        }
      ]
    },
    {
      "cell_type": "markdown",
      "source": [
        "##4.3 - Forward and Backward propagation Steps for the learning parameters\n",
        "\n",
        "\n",
        "> Propagate function computes the cost and Gradients\n",
        "\n",
        "\n",
        "\n",
        "\n",
        "\n",
        "\n"
      ],
      "metadata": {
        "id": "ckBa3IBCvAfT"
      }
    },
    {
      "cell_type": "code",
      "source": [
        "def propagation(w, b, X, Y):\n",
        "    \n",
        "    \n",
        "    m = X.shape[1]\n",
        "    \n",
        "    # Forward Propagation\n",
        "   \n",
        "    A = sigmoid(np.dot(w.T,X) + b)  \n",
        "\n",
        "    #Now we compute cost            \n",
        "    cost = np.sum(((- np.log(A))*Y + (-np.log(1-A))*(1-Y)))/m  \n",
        "\n",
        "    #Backward propagation\n",
        "    dw = (np.dot(X,(A-Y).T))/m\n",
        "    db = (np.sum(A-Y))/m\n",
        "\n",
        "\n",
        "    assert(dw.shape == w.shape)\n",
        "    assert(db.dtype == float)\n",
        "    cost = np.squeeze(cost)\n",
        "    assert(cost.shape == ())\n",
        "    \n",
        "    grads = {\"dw\": dw,\n",
        "             \"db\": db}\n",
        "    \n",
        "    return grads, cost\n",
        "\n",
        "  "
      ],
      "metadata": {
        "id": "EzegrR_b3ce0"
      },
      "execution_count": null,
      "outputs": []
    },
    {
      "cell_type": "code",
      "source": [
        "w,b,X,Y =  np.array([[1.],[2.]]), 2., np.array([[1.,2.,-1.],[3.,4.,-3.2]]), np.array([[1,0,1]])\n",
        "\n",
        "grads, cost = propagation(w,b,X,Y)\n",
        "\n",
        "print(\"dw = \" + str(grads[\"dw\"]))\n",
        "print(\"db = \" + str(grads[\"db\"]))\n",
        "print(\"cost = \" + str(cost))\n"
      ],
      "metadata": {
        "id": "NlTpFmSVzo6z",
        "colab": {
          "base_uri": "https://localhost:8080/"
        },
        "outputId": "5ec425ed-693a-4252-97b9-35c264aed702"
      },
      "execution_count": null,
      "outputs": [
        {
          "output_type": "stream",
          "name": "stdout",
          "text": [
            "dw = [[0.99845601]\n",
            " [2.39507239]]\n",
            "db = 0.001455578136784208\n",
            "cost = 5.801545319394553\n"
          ]
        }
      ]
    },
    {
      "cell_type": "markdown",
      "source": [
        "##4.4 - Optimization\n",
        "\n",
        "> Update the parameters using gradient descent.The goal is to learn w and b by minimizing the cost function J.\n",
        "\n",
        "\n",
        "\n"
      ],
      "metadata": {
        "id": "6p4kcbYHYpEY"
      }
    },
    {
      "cell_type": "code",
      "source": [
        "def optimize(w,b,X,Y,num_iterations, learning_rate, print_cost = False):\n",
        "\n",
        "   costs = []\n",
        "   \n",
        "   for i in range(num_iterations):\n",
        "     grads, cost = propagation(w, b, X, Y)\n",
        "\n",
        "# Retrieve derivatives from grads\n",
        "     dw=grads[\"dw\"]\n",
        "     db = grads[\"db\"]\n",
        "\n",
        "#update the parameter\n",
        "     w= w-(learning_rate*dw)\n",
        "     b= b-(learning_rate*db)\n",
        "\n",
        "     if i% 100 ==0:\n",
        "       costs.append(cost)\n",
        "\n",
        " # Print the cost every 100 training iterations\n",
        "     if print_cost and i%100 == 0:\n",
        "          print (\"Cost after iteration %i: %f\" %(i, cost))\n",
        "   params ={\"w\": w,\n",
        "            \"b\":b}\n",
        "   grads = {\"dw\":dw,\n",
        "            \"db\":db}\n",
        "   return params,grads,costs\n",
        "\n"
      ],
      "metadata": {
        "id": "hwMa0lKkYyj_"
      },
      "execution_count": null,
      "outputs": []
    },
    {
      "cell_type": "code",
      "source": [
        "params, grads, costs = optimize(w, b, X, Y, num_iterations= 100, learning_rate = 0.009, print_cost = False)\n",
        "\n",
        "print (\"w = \" + str(params[\"w\"]))\n",
        "print (\"b = \" + str(params[\"b\"]))\n",
        "print (\"dw = \" + str(grads[\"dw\"]))\n",
        "print (\"db = \" + str(grads[\"db\"]))"
      ],
      "metadata": {
        "id": "lo-bP0Vgc06X",
        "colab": {
          "base_uri": "https://localhost:8080/"
        },
        "outputId": "49e20b87-dbbd-4451-9572-421edb2e37e6"
      },
      "execution_count": null,
      "outputs": [
        {
          "output_type": "stream",
          "name": "stdout",
          "text": [
            "w = [[0.19033591]\n",
            " [0.12259159]]\n",
            "b = 1.9253598300845747\n",
            "dw = [[0.67752042]\n",
            " [1.41625495]]\n",
            "db = 0.21919450454067657\n"
          ]
        }
      ]
    },
    {
      "cell_type": "code",
      "source": [
        "plt.plot(costs)"
      ],
      "metadata": {
        "id": "D3fW-hGudvFC",
        "colab": {
          "base_uri": "https://localhost:8080/",
          "height": 282
        },
        "outputId": "96333dd6-dcf8-4b7b-eba3-9062a6aa36f3"
      },
      "execution_count": null,
      "outputs": [
        {
          "output_type": "execute_result",
          "data": {
            "text/plain": [
              "[<matplotlib.lines.Line2D at 0x7fbedda86ed0>]"
            ]
          },
          "metadata": {},
          "execution_count": 141
        },
        {
          "output_type": "display_data",
          "data": {
            "image/png": "[encoded data removed]",
            "text/plain": [
              "<Figure size 432x288 with 1 Axes>"
            ]
          },
          "metadata": {
            "needs_background": "light"
          }
        }
      ]
    },
    {
      "cell_type": "markdown",
      "source": [
        "## Predict Function:"
      ],
      "metadata": {
        "id": "_PpJQ0PchdZm"
      }
    },
    {
      "cell_type": "code",
      "source": [
        "def predict(w,b,X):\n",
        "    \n",
        "    m = X.shape[1]\n",
        "    Y_prediction = np.zeros((1,m))\n",
        "    w= w.reshape(X.shape[0],1)\n",
        "\n",
        "# Compute vector \"A\" predicting the probabilities of a cat being present in the picture\n",
        "    A = sigmoid(np.dot(w.T,X) + b)\n",
        "\n",
        "\n",
        "\n",
        "    #### WORKING SOLUTION 1: USING IF ELSE #### \n",
        "    #for i in range(A.shape[1]):\n",
        "        ## Convert probabilities A[0,i] to actual predictions p[0,i]\n",
        "        #if (A[0,i] >= 0.5):\n",
        "        #    Y_prediction[0, i] = 1\n",
        "        #else:\n",
        "        #    Y_prediction[0, i] = 0\n",
        "\n",
        "        \n",
        "    #### WORKING SOLUTION 2: ONE LINE ####\n",
        "    #for i in range(A.shape[1]):\n",
        "        ## Convert probabilities A[0,i] to actual predictions p[0,i]\n",
        "        #Y_prediction[0, i] = 1 if A[0,i] >=0.5 else 0\n",
        "    Y_prediction = (A>=0.5)*1.0\n",
        "    assert(Y_prediction.shape ==(1,m))\n",
        "    return Y_prediction\n",
        "     \n",
        "\n",
        "\n",
        "\n",
        "    "
      ],
      "metadata": {
        "id": "fwSAC01JhvZN"
      },
      "execution_count": null,
      "outputs": []
    },
    {
      "cell_type": "code",
      "source": [
        "w = np.array([[0.1124579], [0.23106775]])\n",
        "b= -0.3\n",
        "X= np.array([[1.,-1.,-3.2],[1.2,2.,0.1]])\n",
        "print(\"prediction = \" + str(predict(w,b,X)))"
      ],
      "metadata": {
        "id": "ePGZ4RhKjZBR",
        "colab": {
          "base_uri": "https://localhost:8080/"
        },
        "outputId": "cc071f0d-e3a4-4fc7-eef1-1fef6c93f64f"
      },
      "execution_count": null,
      "outputs": [
        {
          "output_type": "stream",
          "name": "stdout",
          "text": [
            "prediction = [[1. 1. 0.]]\n"
          ]
        }
      ]
    },
    {
      "cell_type": "markdown",
      "source": [
        "##5 - Merge all functions into a model"
      ],
      "metadata": {
        "id": "UKw1oAz-mLlX"
      }
    },
    {
      "cell_type": "code",
      "source": [
        "def model(X_train, Y_train, X_test,Y_test,num_iterations=100,learning_rate=0.5,print_cost=False):\n",
        "\n",
        "\n",
        "    ##initialize parameter with zeros\n",
        "    w,b = initialize_with_zeros(X_train.shape[0])\n",
        "    parameters,grads,costs = optimize(w,b,X_train,Y_train,num_iterations,learning_rate,print_cost)\n",
        "\n",
        "    #Retrieve the parameters w & b\n",
        "\n",
        "    #prediction the test/train\n",
        "    Y_prediction_test = predict(w,b,X_test)\n",
        "    Y_prediction_train = predict(w,b,X_train)\n",
        "  # test/train ERROSRS\n",
        "    print(\"train accuracy: {} %\".format(100 - np.mean(np.abs(Y_prediction_train - Y_train)) * 100))\n",
        "    print(\"test accuracy: {} %\".format(100 - np.mean(np.abs(Y_prediction_test - Y_test)) * 100))\n",
        "\n",
        "\n",
        "    d = {\"costs\": costs,\n",
        "          \"Y_prediction_test\": Y_prediction_test,\n",
        "          \"Y_prediction_train\":Y_prediction_train,\n",
        "          \"w\":w,\n",
        "          \"b\":b,\n",
        "          \"learning_rate\": learning_rate,\n",
        "          \"num_iterations\": num_iterations}\n",
        "      \n",
        "    return d\n"
      ],
      "metadata": {
        "id": "OapgouIlkVar"
      },
      "execution_count": null,
      "outputs": []
    },
    {
      "cell_type": "code",
      "source": [
        "d = model(train_set_x, train_set_y, test_set_x, test_set_y, num_iterations = 2000, learning_rate = 0.005, print_cost = False)"
      ],
      "metadata": {
        "colab": {
          "base_uri": "https://localhost:8080/"
        },
        "id": "nHf4KkKbqAMG",
        "outputId": "846e8245-17e2-458b-cf26-05c72571ab15"
      },
      "execution_count": 196,
      "outputs": [
        {
          "metadata": {
            "tags": null
          },
          "name": "stdout",
          "output_type": "stream",
          "text": [
            "train accuracy: 34.44976076555024 %\n",
            "test accuracy: 66.0 %\n"
          ]
        }
      ]
    },
    {
      "cell_type": "code",
      "source": [
        "# Example of a picture that was wrongly classified.\n",
        "index = 25\n",
        "plt.imshow(test_set_x[:,index].reshape((num_px, num_px, 3)))\n",
        "print (\"y = \" + str(test_set_y[0,index]) + \", you predicted that it is a \\\"\" + classes[d[\"Y_prediction_test\"][0,index]].decode(\"utf-8\") +  \"\\\" picture.\")"
      ],
      "metadata": {
        "id": "qZRky5Y6qfiP"
      },
      "execution_count": null,
      "outputs": []
    },
    {
      "cell_type": "markdown",
      "source": [
        "###Plot the cost function and the gradients."
      ],
      "metadata": {
        "id": "OH3LL3E7gkRU"
      }
    },
    {
      "cell_type": "code",
      "source": [
        "# Plot learning curv with costs\n",
        "\n",
        "costs = np.squeeze(d['costs'])\n",
        "plt.plot(costs)\n",
        "plt.ylabel('cost')\n",
        "plt.xlabel('iterations (per hundreds)')\n",
        "plt.title(\"Learning rate =\" + str(d[\"learning_rate\"]))"
      ],
      "metadata": {
        "id": "hr1W8te5NeGA"
      },
      "execution_count": null,
      "outputs": []
    },
    {
      "cell_type": "markdown",
      "source": [
        "##Choice of learning rate"
      ],
      "metadata": {
        "id": "sHdh0eKcXs6G"
      }
    },
    {
      "cell_type": "markdown",
      "source": [
        "\n",
        "\n",
        "> **Different learning rates give different costs and thus different predictions results**\n",
        "\n",
        "1.   If the learning rate is too large (0.01), the cost may oscillate up and down. It may even diverge (though in this example, using 0.01 still eventually ends up at a good value for the cost).\n",
        "\n",
        "2.  A lower cost doesn't mean a better model. You have to check if there is possibly overfitting. It happens when the training accuracy is a lot higher than the test accuracy.\n",
        "3. In deep learning, we usually recommend that choose the learning rate that better minimizes the cost function\n",
        "\n",
        "\n",
        "\n",
        "\n",
        "\n",
        "\n"
      ],
      "metadata": {
        "id": "bVd7kKw_gxMT"
      }
    },
    {
      "cell_type": "code",
      "source": [
        "learning_rates = [0.01, 0.001, 0.0001]\n",
        "models = {}\n",
        "\n",
        "for i in learning_rates:\n",
        "    print (\"learning rate is :\" + str(i))\n",
        "    models[str(i)] = model(train_set_x, train_set_y, test_set_x,test_set_y, num_iterations=1500, learning_rate = i, print_cost=False)\n",
        "    print('\\n' + \"-----------------------------------------------\"+ '\\n')\n",
        "\n",
        "\n",
        "\n",
        "for i in learning_rates:\n",
        "    plt.plot(np.squeeze(models[str(i)][\"costs\"]), label = str(models[str(i)][\"learning_rate\"]))\n",
        "\n",
        "\n",
        "plt.ylabel('cost')\n",
        "plt.xlabel('iterations(hundreds)')\n",
        "\n",
        "\n",
        "\n",
        "legend = plt.legend(loc= 'upper center', shadow= True)\n",
        "fram = legend.get_frame()\n",
        "frame.set_facecolor('0.90')\n",
        "plt.show()"
      ],
      "metadata": {
        "id": "VfOwlZ4tXoVu"
      },
      "execution_count": null,
      "outputs": []
    },
    {
      "cell_type": "markdown",
      "source": [
        "<h1> "
      ],
      "metadata": {
        "id": "FuQdizebhcJ0"
      }
    }
  ]
}